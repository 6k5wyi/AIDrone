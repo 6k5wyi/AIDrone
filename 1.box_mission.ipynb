{
 "cells": [
  {
   "cell_type": "markdown",
   "metadata": {},
   "source": [
    "# 텔로를 이용하여 사각형으로 옴직이기"
   ]
  },
  {
   "cell_type": "markdown",
   "metadata": {},
   "source": [
    "## 1. 필요 라이브러리 가져오기"
   ]
  },
  {
   "cell_type": "code",
   "execution_count": null,
   "metadata": {},
   "outputs": [],
   "source": [
    "import socket\n",
    "import threading\n",
    "import time"
   ]
  },
  {
   "cell_type": "markdown",
   "metadata": {},
   "source": [
    "## 2. 텔로 기본 IP 설정하기"
   ]
  },
  {
   "cell_type": "code",
   "execution_count": null,
   "metadata": {},
   "outputs": [],
   "source": [
    "tello_address = ('192.168.10.1', 8889)\n",
    "local_address = ('', 9000)"
   ]
  },
  {
   "cell_type": "markdown",
   "metadata": {},
   "source": [
    "## 3. 소켓 설정하기"
   ]
  },
  {
   "cell_type": "code",
   "execution_count": null,
   "metadata": {},
   "outputs": [],
   "source": [
    "sock = socket.socket(socket.AF_INET, socket.SOCK_DGRAM)\n",
    "sock.bind(local_address)"
   ]
  },
  {
   "cell_type": "markdown",
   "metadata": {},
   "source": [
    "## 4. send receive 함수 설정"
   ]
  },
  {
   "cell_type": "code",
   "execution_count": null,
   "metadata": {},
   "outputs": [],
   "source": [
    "def send(message, delay):\n",
    "  try:\n",
    "    sock.sendto(message.encode(), tello_address)\n",
    "    print(\"Sending message: \" + message)\n",
    "  except Exception as e:\n",
    "    print(\"Error sending: \" + str(e))\n",
    "\n",
    "  time.sleep(delay)\n",
    "\n",
    "def receive():\n",
    "  while True:\n",
    "    try:\n",
    "      response, ip_address = sock.recvfrom(128)\n",
    "      print(\"Received message: \" + response.decode(encoding='utf-8'))\n",
    "    except Exception as e:\n",
    "      sock.close()\n",
    "      print(\"Error receiving: \" + str(e))\n",
    "      break"
   ]
  },
  {
   "cell_type": "markdown",
   "metadata": {},
   "source": [
    "## 5. 쓰레딩 시작하기"
   ]
  },
  {
   "cell_type": "code",
   "execution_count": null,
   "metadata": {},
   "outputs": [],
   "source": [
    "receiveThread = threading.Thread(target=receive)\n",
    "receiveThread.daemon = True\n",
    "receiveThread.start()"
   ]
  },
  {
   "cell_type": "markdown",
   "metadata": {},
   "source": [
    "## 6. 동작하기\n",
    "송신 에러가 발생하면 딜레이 타임을 조절하여 다음 명령어까지 시간 벌어주기"
   ]
  },
  {
   "cell_type": "code",
   "execution_count": null,
   "metadata": {},
   "outputs": [],
   "source": [
    "#사각형으로 움직이기\n",
    "send(\"command\", 3) #command 명령어 주기\n",
    "send(\"takeoff\", 5) # takeoff 시키기 5초동안 명령어 딜레이\n",
    "send(\"forward 50\", 4) \n",
    "send(\"cw 90\", 3)\n",
    "send(\"forward 50\", 5)\n",
    "send(\"cw 90\", 3)\n",
    "send(\"forward 50\", 4)\n",
    "send(\"cw 90\", 3)\n",
    "send(\"forward 50\", 4)\n",
    "send(\"cw 90\", 3)\n",
    "send(\"land\", 5)\n",
    "print(\"Mission completed successfully!\")\n",
    "\n",
    "sock.close() #소켓 닫아주기"
   ]
  }
 ],
 "metadata": {
  "kernelspec": {
   "display_name": "Python 3",
   "language": "python",
   "name": "python3"
  },
  "language_info": {
   "codemirror_mode": {
    "name": "ipython",
    "version": 3
   },
   "file_extension": ".py",
   "mimetype": "text/x-python",
   "name": "python",
   "nbconvert_exporter": "python",
   "pygments_lexer": "ipython3",
   "version": "3.7.6"
  }
 },
 "nbformat": 4,
 "nbformat_minor": 4
}
