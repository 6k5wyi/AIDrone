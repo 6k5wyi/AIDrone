{
 "cells": [
  {
   "cell_type": "markdown",
   "metadata": {},
   "source": [
    "# 키보드 입력으로 텔로 동작시키기\n",
    "키보드 라이브러리가 설치되어 있지 않다면 아래코드를 주석을 빼고 동작시키시오. \n",
    "\n",
    "아니면 하지말고"
   ]
  },
  {
   "cell_type": "code",
   "execution_count": null,
   "metadata": {},
   "outputs": [],
   "source": [
    "# !pip install keyboard"
   ]
  },
  {
   "cell_type": "markdown",
   "metadata": {},
   "source": [
    "## 1. 필요한 라이브러리 가져오기"
   ]
  },
  {
   "cell_type": "code",
   "execution_count": null,
   "metadata": {},
   "outputs": [],
   "source": [
    "import socket\n",
    "import time\n",
    "import keyboard"
   ]
  },
  {
   "cell_type": "markdown",
   "metadata": {},
   "source": [
    "## 2. 텔로 기본 ip주소 및 소켓 설정"
   ]
  },
  {
   "cell_type": "code",
   "execution_count": null,
   "metadata": {},
   "outputs": [],
   "source": [
    "tello_address = ('192.168.10.1', 8889)\n",
    "sock = socket.socket(socket.AF_INET, socket.SOCK_DGRAM)\n",
    "sock.bind(('', 9000))"
   ]
  },
  {
   "cell_type": "markdown",
   "metadata": {},
   "source": [
    "## 3. send 및 receive 함수 설정하기"
   ]
  },
  {
   "cell_type": "code",
   "execution_count": null,
   "metadata": {},
   "outputs": [],
   "source": [
    "def send(message):\n",
    "  try:\n",
    "    sock.sendto(message.encode(), tello_address)\n",
    "    print(\"Sending message: \" + message)\n",
    "  except Exception as e:\n",
    "    print(\"Error sending: \" + str(e))\n",
    "\n",
    "def receive():\n",
    "  try:\n",
    "    response, ip_address = sock.recvfrom(128)\n",
    "    print(\"Received message: \" + response.decode(encoding='utf-8') + \" from Tello with IP: \" + str(ip_address))\n",
    "  except Exception as e:\n",
    "    print(\"Error receiving: \" + str(e))\n"
   ]
  },
  {
   "cell_type": "markdown",
   "metadata": {},
   "source": [
    "## 4. 기본적으로 커맨드 송신 시키기."
   ]
  },
  {
   "cell_type": "code",
   "execution_count": null,
   "metadata": {},
   "outputs": [],
   "source": [
    "send(\"command\")\n",
    "print(\"command clear\")\n",
    "receive()\n",
    "\n",
    "time.sleep(2)\n",
    "\n",
    "send(\"battery?\")  #베터리 체크도 함께\n",
    "receive()\n",
    "\n",
    "res=''"
   ]
  },
  {
   "cell_type": "markdown",
   "metadata": {},
   "source": [
    "## 5. 키보드로 조종하기"
   ]
  },
  {
   "cell_type": "code",
   "execution_count": null,
   "metadata": {},
   "outputs": [],
   "source": [
    "while(1):\n",
    "    first=time.time()\n",
    "    if keyboard.is_pressed('t'):        #takeoff 시키기\n",
    "        res='takeoff'\n",
    "        send(res)\n",
    "    elif keyboard.is_pressed('up'):\n",
    "        res='forward 50'\n",
    "        send(res)\n",
    "    elif keyboard.is_pressed('left'):\n",
    "        res='left 50'\n",
    "        send(res)\n",
    "    elif keyboard.is_pressed('down'):\n",
    "        res='back 50'\n",
    "        send(res)\n",
    "    elif keyboard.is_pressed('right'):\n",
    "        res='right 50'\n",
    "        send(res)\n",
    "    elif keyboard.is_pressed('a'): \n",
    "        res='ccw 30'\n",
    "        send(res)\n",
    "    elif keyboard.is_pressed('d'):\n",
    "        res='cw 30'\n",
    "        send(res)\n",
    "    elif keyboard.is_pressed('w'):\n",
    "        res='up 50'\n",
    "        send(res)\n",
    "    elif keyboard.is_pressed('s'):\n",
    "        res='down 50'\n",
    "        send(res)\n",
    "    elif keyboard.is_pressed('q'):    #q를 누르면 land 시킨다.\n",
    "        res='land'\n",
    "        send(res)\n",
    "        break\n",
    "\n",
    "sock.close() ## 소켓 닫기"
   ]
  }
 ],
 "metadata": {
  "kernelspec": {
   "display_name": "Python 3",
   "language": "python",
   "name": "python3"
  },
  "language_info": {
   "codemirror_mode": {
    "name": "ipython",
    "version": 3
   },
   "file_extension": ".py",
   "mimetype": "text/x-python",
   "name": "python",
   "nbconvert_exporter": "python",
   "pygments_lexer": "ipython3",
   "version": "3.7.6"
  }
 },
 "nbformat": 4,
 "nbformat_minor": 4
}
