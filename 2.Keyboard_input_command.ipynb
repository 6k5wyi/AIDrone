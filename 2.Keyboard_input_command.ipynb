{
 "cells": [
  {
   "cell_type": "markdown",
   "metadata": {},
   "source": [
    "# 키보드를 이용하여 텔로 움직이기\n",
    "기본적으로 1.box_mission.ipynb 와 비슷하지만 다른 부분 있음"
   ]
  },
  {
   "cell_type": "markdown",
   "metadata": {},
   "source": [
    "## 1. 필요한 라이브러리 가져오기"
   ]
  },
  {
   "cell_type": "code",
   "execution_count": null,
   "metadata": {},
   "outputs": [],
   "source": [
    "import socket\n",
    "import threading\n",
    "import time\n",
    "import sys ## sys 모듈 가져오기"
   ]
  },
  {
   "cell_type": "markdown",
   "metadata": {},
   "source": [
    "## 2. 텔로 기본 IP 설정하기"
   ]
  },
  {
   "cell_type": "code",
   "execution_count": null,
   "metadata": {},
   "outputs": [],
   "source": [
    "tello_address = ('192.168.10.1', 8889)\n",
    "local_address = ('', 9000)"
   ]
  },
  {
   "cell_type": "markdown",
   "metadata": {},
   "source": [
    "## 3. 소켓 설정하기"
   ]
  },
  {
   "cell_type": "code",
   "execution_count": null,
   "metadata": {},
   "outputs": [],
   "source": [
    "sock = socket.socket(socket.AF_INET, socket.SOCK_DGRAM)\n",
    "sock.bind(local_address)"
   ]
  },
  {
   "cell_type": "markdown",
   "metadata": {},
   "source": [
    "## 4. send receive 함수 설정"
   ]
  },
  {
   "cell_type": "code",
   "execution_count": null,
   "metadata": {},
   "outputs": [],
   "source": [
    "def send(message):  # 1번 과 다른 점은 매개변수로 메세지만 받음 \n",
    "  try:\n",
    "    sock.sendto(message.encode(), tello_address)\n",
    "    print(\"Sending message: \" + message)\n",
    "  except Exception as e:\n",
    "    print(\"Error sending: \" + str(e))\n",
    "        \n",
    "def receive():\n",
    "  while True:\n",
    "    try:\n",
    "      response, ip_address = sock.recvfrom(128)\n",
    "      print(\"Received message: \" + response.decode(encoding='utf-8'))\n",
    "    except Exception as e:\n",
    "      sock.close()\n",
    "      print(\"Error receiving: \" + str(e))\n",
    "      break"
   ]
  },
  {
   "cell_type": "markdown",
   "metadata": {},
   "source": [
    "## 5. 쓰레딩 시작하기"
   ]
  },
  {
   "cell_type": "code",
   "execution_count": null,
   "metadata": {},
   "outputs": [],
   "source": [
    "receiveThread = threading.Thread(target=receive)\n",
    "receiveThread.daemon = True\n",
    "receiveThread.start()"
   ]
  },
  {
   "cell_type": "markdown",
   "metadata": {},
   "source": [
    "## 6. 동작 시작하기 \n",
    "텔로 SDK명령어와 엔터키 치기\n",
    "\n",
    "quit를 누르면 멈춤"
   ]
  },
  {
   "cell_type": "code",
   "execution_count": null,
   "metadata": {},
   "outputs": [],
   "source": [
    "print('Type in a Tello SDK command and press the enter key. Enter \"quit\" to exit this program.')\n",
    "while True:\n",
    "\n",
    "  try:\n",
    "    if (sys.version_info > (3, 0)): #파이선 3.0 이상 모듈에서만 동작하기\n",
    "      message = input('')\n",
    "    else:\n",
    "      message = raw_input('')\n",
    "\n",
    "    if 'quit' in message:\n",
    "      print(\"Program exited sucessfully\")\n",
    "      sock.close()\n",
    "      break\n",
    "\n",
    "    send(message)\n",
    "\n",
    "  except KeyboardInterrupt as e:\n",
    "    sock.close()\n",
    "    break"
   ]
  }
 ],
 "metadata": {
  "kernelspec": {
   "display_name": "Python 3",
   "language": "python",
   "name": "python3"
  },
  "language_info": {
   "codemirror_mode": {
    "name": "ipython",
    "version": 3
   },
   "file_extension": ".py",
   "mimetype": "text/x-python",
   "name": "python",
   "nbconvert_exporter": "python",
   "pygments_lexer": "ipython3",
   "version": "3.7.6"
  }
 },
 "nbformat": 4,
 "nbformat_minor": 4
}
